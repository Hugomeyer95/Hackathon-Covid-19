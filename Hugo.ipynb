{
 "cells": [
  {
   "cell_type": "code",
   "execution_count": 1,
   "metadata": {},
   "outputs": [],
   "source": [
    "import os\n",
    "import re\n",
    "import json\n",
    "import math\n",
    "\n",
    "import numpy as np\n",
    "import pandas as pd\n",
    "import matplotlib.pyplot as plt\n",
    "from matplotlib.pyplot import figure\n",
    "import seaborn as sns\n",
    "\n",
    "import spacy\n",
    "from spacy.matcher import Matcher\n",
    "\n",
    "from tqdm import tqdm\n",
    "\n",
    "nlp = spacy.load(\"en_core_web_sm\")"
   ]
  },
  {
   "cell_type": "code",
   "execution_count": 5,
   "metadata": {},
   "outputs": [
    {
     "name": "stderr",
     "output_type": "stream",
     "text": [
      "C:\\Users\\hugomeyer\\Anaconda\\lib\\site-packages\\IPython\\core\\interactiveshell.py:3058: DtypeWarning: Columns (13) have mixed types. Specify dtype option on import or set low_memory=False.\n",
      "  interactivity=interactivity, compiler=compiler, result=result)\n"
     ]
    }
   ],
   "source": [
    "debug = False\n",
    "articles = {}\n",
    "stat = { }\n",
    "for dirpath, subdirs, files in os.walk(r'C:\\Users\\hugomeyer\\Documents\\Hackathon\\Input'):\n",
    "    for x in files:\n",
    "        if x.endswith(\".json\"):\n",
    "            articles[x] = os.path.join(dirpath, x)        \n",
    "df = pd.read_csv(r'C:\\Users\\hugomeyer\\Documents\\Hackathon\\Input\\metadata.csv')\n"
   ]
  },
  {
   "cell_type": "code",
   "execution_count": 7,
   "metadata": {},
   "outputs": [],
   "source": [
    "virus_ref = ['covid-19', 'coronavirus', 'cov-2', 'sars-cov-2', 'sars-cov', 'hcov', '2019-ncov']\n",
    "symptoms = ['weight loss','chills','shivering','convulsions','deformity','discharge','dizziness','vertigo','fatigue','malaise','asthenia','hypothermia','jaundice','muscle weakness','pyrexia','sweats','swelling','swollen','painful lymph node','weight gain','arrhythmia','bradycardia','chest pain','claudication','palpitations','tachycardia','dry mouth','epistaxis','halitosis','hearing loss','nasal discharge','otalgia','otorrhea','sore throat','toothache','tinnitus','trismus','abdominal pain','fever','bloating','belching','bleeding','blood in stool','melena','hematochezia', 'constipation','diarrhea','dysphagia','dyspepsia','fecal incontinence','flatulence','heartburn','nausea','odynophagia','proctalgia fugax','pyrosis','steatorrhea','vomiting','alopecia','hirsutism','hypertrichosis','abrasion','anasarca','bleeding into the skin','petechia','purpura','ecchymosis and bruising','blister','edema','itching','laceration','rash','urticaria','abnormal posturing','acalculia','agnosia','alexia','amnesia','anomia','anosognosia','aphasia and apraxia','apraxia','ataxia','cataplexy','confusion','dysarthria','dysdiadochokinesia','dysgraphia','hallucination','headache','akinesia','bradykinesia','akathisia','athetosis','ballismus','blepharospasm','chorea','dystonia','fasciculation','muscle cramps','myoclonus','opsoclonus','tic','tremor','flapping tremor','insomnia','loss of consciousness','syncope','neck stiffness','opisthotonus','paralysis and paresis','paresthesia','prosopagnosia','somnolence','abnormal vaginal bleeding','vaginal bleeding in early pregnancy', 'miscarriage','vaginal bleeding in late pregnancy','amenorrhea','infertility','painful intercourse','pelvic pain','vaginal discharge','amaurosis fugax','amaurosis','blurred vision','double vision','exophthalmos','mydriasis','miosis','nystagmus','amusia','anhedonia','anxiety','apathy','confabulation','depression','delusion','euphoria','homicidal ideation','irritability','mania','paranoid ideation','suicidal ideation','apnea','hypopnea','cough','dyspnea','bradypnea','tachypnea','orthopnea','platypnea','trepopnea','hemoptysis','pleuritic chest pain','sputum production','arthralgia','back pain','sciatica','Urologic','dysuria','hematospermia','hematuria','impotence','polyuria','retrograde ejaculation','strangury','urethral discharge','urinary frequency','urinary incontinence','urinary retention']\n",
    "organs = ['mouth','teeth','tongue','salivary glands','parotid glands','submandibular glands','sublingual glands','pharynx','esophagus','stomach','small intestine','duodenum','Jejunum','ileum','large intestine','liver','Gallbladder','mesentery','pancreas','anal canal and anus','blood cells','respiratory system','nasal cavity','pharynx','larynx','trachea','bronchi','lungs','diaphragm','Urinary system','kidneys','Ureter','bladder','Urethra','reproductive organs','ovaries','Fallopian tubes','Uterus','vagina','vulva','clitoris','placenta','testes','epididymis','vas deferens','seminal vesicles','prostate','bulbourethral glands','penis','scrotum','endocrine system','pituitary gland','pineal gland','thyroid gland','parathyroid glands','adrenal glands','pancreas','circulatory system','Heart','patent Foramen ovale','arteries','veins','capillaries','lymphatic system','lymphatic vessel','lymph node','bone marrow','thymus','spleen','tonsils','interstitium','nervous system','brain','cerebrum','cerebral hemispheres','diencephalon','the brainstem','midbrain','pons','medulla oblongata','cerebellum','the spinal cord','the ventricular system','choroid plexus','peripheral nervous system','nerves','cranial nerves','spinal nerves','Ganglia','enteric nervous system','sensory organs','eye','cornea','iris','ciliary body','lens','retina','ear','outer ear','earlobe','eardrum','middle ear','ossicles','inner ear','cochlea','vestibule of the ear','semicircular canals','olfactory epithelium','tongue','taste buds','integumentary system','mammary glands','skin','subcutaneous tissue']\n",
    "higher_terms = ['over', 'above', 'higher', 'older', '>', 'over', 'less']\n",
    "lower_terms = ['under', 'below', 'fewer', 'younger', '<', 'under', 'more']"
   ]
  },
  {
   "cell_type": "code",
   "execution_count": 8,
   "metadata": {},
   "outputs": [],
   "source": [
    "matchers = {    \n",
    "    \"Term Matcher\": lambda term: [{'LOWER': t} for t in term.split(' ')],\n",
    "    \"Terms Matcher\": lambda terms: [{\"LOWER\": {\"IN\": terms } }],\n",
    "    \"Number Suffix Matcher\": lambda periods: [\n",
    "        {'LIKE_NUM': True},\n",
    "        {\"TEXT\": {\"REGEX\": f'({\"|\".join(periods)})'}}\n",
    "    ],\n",
    "    \"Number Interval Matcher\": lambda periods: [\n",
    "        {'POS': 'NUM',},\n",
    "        {'TEXT': {'REGEX': f'({\"|\".join(periods)})'}, 'OP': '?'},\n",
    "        {'DEP': 'quantmod', 'OP': '?'},\n",
    "        {'DEP': 'punct', 'OP': '?'},\n",
    "        {'DEP': 'prep', 'OP': '?'},\n",
    "        {'POS': 'NUM'},\n",
    "        {'TEXT': {'REGEX': f'({\"|\".join(periods)})'}},\n",
    "    ],\n",
    "    \"Group Matcher\": [\n",
    "        {\"TEXT\": {\"IN\": higher_terms+lower_terms }}\n",
    "    ]                 \n",
    "}"
   ]
  },
  {
   "cell_type": "code",
   "execution_count": 9,
   "metadata": {},
   "outputs": [],
   "source": [
    "def plot_dict(stat, t = 10, sort_values = False, barh = False, width = 20, height = 4, title = ''):\n",
    "    filtered = dict(stat)\n",
    "    to_delete = []\n",
    "    for key in filtered:\n",
    "        if filtered[key] < t:\n",
    "            to_delete.append(key)\n",
    "    for key in to_delete:\n",
    "        del filtered[key]\n",
    "\n",
    "    \n",
    "    if sort_values == False:\n",
    "        lists = sorted(filtered.items())\n",
    "    else:\n",
    "        if sort_values == True:\n",
    "            lists = sorted(filtered.items(), key = lambda item : item[1])\n",
    "        else:\n",
    "            lists = sorted(filtered.items(), key = sort_values)\n",
    "               \n",
    "    fig = figure(num=None, figsize=(width, height))\n",
    "    \n",
    "    if title != '':\n",
    "        fig.suptitle(title, fontsize=20)\n",
    "        \n",
    "    x, y = zip(*lists) \n",
    "    \n",
    "    if barh == True:\n",
    "        plt.barh(x, y)\n",
    "    else:\n",
    "        plt.bar(x, y)\n",
    "    plt.show()\n",
    "    \n",
    "\n",
    "def merge_keys(mergers, obj):\n",
    "    result = dict(obj)\n",
    "    for key, arr in mergers:\n",
    "        if key not in result:\n",
    "            result[key] = 0\n",
    "        for merger in arr:\n",
    "            if merger in result:\n",
    "                result[key] = result[key] + result[merger]\n",
    "                del result[merger]\n",
    "    return result\n",
    "\n",
    "def dict_counter(res, arg):\n",
    "    try:\n",
    "        key = str(arg)\n",
    "        res.setdefault(key, 0)\n",
    "        res[key] = res[key] + 1\n",
    "    except:\n",
    "        pass\n",
    "\n",
    "def numval(val):\n",
    "    try:\n",
    "        return int(float(str(val))) \n",
    "    except:\n",
    "        return None\n",
    "    \n",
    "def day_value(val, rep = None):\n",
    "    \n",
    "    if rep != None:\n",
    "        val = numval(val.text)\n",
    "        if val != None and 'week' in rep.text:\n",
    "            val = val * 7\n",
    "        return val\n",
    "    else:\n",
    "        return None\n",
    "\n",
    "def report_interval(res, min_val, max_val):       \n",
    "    if min_val != None and max_val != None:\n",
    "        for key in range(min_val, max_val):\n",
    "            res.setdefault(key, 0)\n",
    "            res[key] = res[key] + 1    \n",
    "\n",
    "def virus_match(text):\n",
    "    return len(re.findall(rf'({\"|\".join(virus_ref)})', text, flags=re.IGNORECASE)) > 0"
   ]
  },
  {
   "cell_type": "code",
   "execution_count": 10,
   "metadata": {},
   "outputs": [
    {
     "name": "stderr",
     "output_type": "stream",
     "text": [
      "100%|████████████████████████████████████████████████████████████████████████████| 47298/47298 [08:39<00:00, 91.05it/s]\n"
     ]
    }
   ],
   "source": [
    "literature = []\n",
    "for index, row in tqdm(df.iterrows(), total=df.shape[0]):\n",
    "    sha = str(row['sha'])\n",
    "    if sha != 'nan':\n",
    "        sha = sha + '.json';\n",
    "        try:\n",
    "            found = False\n",
    "            with open(articles[sha]) as f:\n",
    "                data = json.load(f)\n",
    "                for key in ['abstract', 'body_text']:\n",
    "                    if found == False and key in data:\n",
    "                        for content in data[key]:\n",
    "                            text = content['text']\n",
    "                            if virus_match(text) == True:                                \n",
    "                                literature.append({'file': articles[sha], 'body': text})                                \n",
    "        except KeyError:\n",
    "            pass"
   ]
  },
  {
   "cell_type": "code",
   "execution_count": 13,
   "metadata": {},
   "outputs": [
    {
     "name": "stdout",
     "output_type": "stream",
     "text": [
      "cord_uid                                                                8q5ondtn\n",
      "sha                                                                          NaN\n",
      "source_x                                                                Elsevier\n",
      "title                          Intrauterine virus infections and congenital h...\n",
      "doi                                                 10.1016/0002-8703(72)90077-4\n",
      "pmcid                                                                        NaN\n",
      "pubmed_id                                                            4.36154e+06\n",
      "license                                                                els-covid\n",
      "abstract                       Abstract The etiologic basis for the vast majo...\n",
      "publish_time                                                          1972-12-31\n",
      "authors                                                        Overall, James C.\n",
      "journal                                                   American Heart Journal\n",
      "Microsoft Academic Paper ID                                                  NaN\n",
      "WHO #Covidence                                                               NaN\n",
      "has_pdf_parse                                                              False\n",
      "has_pmc_xml_parse                                                          False\n",
      "full_text_file                                                    custom_license\n",
      "url                                 https://doi.org/10.1016/0002-8703(72)90077-4\n",
      "Name: 0, dtype: object\n"
     ]
    }
   ],
   "source": [
    "print(df.iloc[0])"
   ]
  },
  {
   "cell_type": "code",
   "execution_count": 14,
   "metadata": {},
   "outputs": [],
   "source": [
    "def execute_matches(match_arr, root, sentence, file, index = 0, execution = []):\n",
    "    key, result = match_arr[0]\n",
    "    rest = match_arr[1:]\n",
    "    next_exec = execution + [(key, result, index)]\n",
    "    if key in root:\n",
    "        rule = root[key]\n",
    "        if callable(rule):\n",
    "            rule( (result, next_exec, sentence, file) )            \n",
    "        else:\n",
    "            if 'execute' in rule:\n",
    "                rule['execute']( (result, next_exec, sentence, file) )\n",
    "            if len(rest) > 0:\n",
    "                execute_matches(rest, rule, sentence, file, index+1, next_exec)\n",
    "    \n",
    "    if len(rest) > 0:               \n",
    "        execute_matches(rest, root, sentence, file, index + 1, execution)\n",
    "        \n",
    "def merge_dict_values(original, rules, drop = []):\n",
    "    result = {}\n",
    "    arr_map = {}\n",
    "    for key, values in rules:\n",
    "        for val in values:\n",
    "            arr_map[val] = key\n",
    "    \n",
    "    for key in original.keys():\n",
    "        new_key = key if key not in arr_map else arr_map[key]        \n",
    "        if key not in drop and new_key not in drop:\n",
    "            val = original[key]            \n",
    "            result[new_key] = val if new_key not in result else result[new_key] + val\n",
    "            \n",
    "    return result\n",
    "    \n",
    "def merge_matches(matches, doc):\n",
    "    match_list = []\n",
    "    current = (None, None, None)\n",
    "    for match_id, start, end in matches:   \n",
    "        if match_id != current[0] or current[2] < start:\n",
    "            if current[0] != None:\n",
    "                match_list.append(current)\n",
    "            current = (match_id, start, end)\n",
    "        elif current[2] < end:\n",
    "            current = (match_id, current[1], end)\n",
    "        \n",
    "    match_list.append(current)\n",
    "    return match_list;\n",
    "\n",
    "def match_parser(matcher, doc, rule, file):\n",
    "    matches = matcher(doc)\n",
    "    if len(matches)>0:\n",
    "        to_process = []\n",
    "        for match_id, start, end in merge_matches(matches, doc):\n",
    "            string_id = nlp.vocab.strings[match_id]  # Get string representation\n",
    "            span = doc[start:end]  # The matched span\n",
    "            to_process.append((string_id, span))\n",
    "        execute_matches(to_process, rule['root'], doc, file)\n",
    "\n",
    "def parse_body(matcher, text, rule, file = None, sentence_level = False):\n",
    "    text = text.lower()\n",
    "    doc = nlp(text)\n",
    "    \n",
    "    if sentence_level == True:    \n",
    "        for sent in doc.sents:\n",
    "            sent_doc = nlp(sent.text)\n",
    "            match_parser(matcher, sent_doc, rule, file)\n",
    "    else:\n",
    "        match_parser(matcher, doc, rule, file)\n",
    "\n",
    "def execute_ruleset(term, rule, sentence_level = False, literature = literature):\n",
    "    matcher = Matcher(nlp.vocab)\n",
    "    for name, m in rule[\"Matchers\"]:\n",
    "        matcher.add(name, None, m)\n",
    "    \n",
    "    for article in tqdm(literature):\n",
    "#     for article in literature:\n",
    "        text_list = re.compile(\"\\. \").split(article['body'])\n",
    "        file = article['file']\n",
    "        for text in text_list:\n",
    "            if callable(term):\n",
    "                allow = term(text)\n",
    "            else:\n",
    "                allow = term == None or term in text\n",
    "            if allow == True:\n",
    "                parse_body(matcher, text, rule, file, sentence_level)        "
   ]
  },
  {
   "cell_type": "code",
   "execution_count": 17,
   "metadata": {},
   "outputs": [
    {
     "name": "stdout",
     "output_type": "stream",
     "text": [
      "cord_uid                                                                pzfd0e50\n",
      "sha                                                                          NaN\n",
      "source_x                                                                Elsevier\n",
      "title                                          Coronaviruses in Balkan nephritis\n",
      "doi                                                 10.1016/0002-8703(80)90355-5\n",
      "pmcid                                                                        NaN\n",
      "pubmed_id                                                            6.24385e+06\n",
      "license                                                                els-covid\n",
      "abstract                                                                     NaN\n",
      "publish_time                                                          1980-03-31\n",
      "authors                        Georgescu, Leonida; Diosi, Peter; Buţiu, Ioan;...\n",
      "journal                                                   American Heart Journal\n",
      "Microsoft Academic Paper ID                                                  NaN\n",
      "WHO #Covidence                                                               NaN\n",
      "has_pdf_parse                                                              False\n",
      "has_pmc_xml_parse                                                          False\n",
      "full_text_file                                                    custom_license\n",
      "url                                 https://doi.org/10.1016/0002-8703(80)90355-5\n",
      "Name: 1, dtype: object\n"
     ]
    }
   ],
   "source": [
    "print(df.iloc[1, :])\n",
    "\n",
    "print(articles[aecbc613ebdab36753235197ffb4f35734b5ca63])"
   ]
  },
  {
   "cell_type": "code",
   "execution_count": 15,
   "metadata": {},
   "outputs": [
    {
     "name": "stderr",
     "output_type": "stream",
     "text": [
      "100%|███████████████████████████████████████████████████████████████████████████| 79364/79364 [04:33<00:00, 289.86it/s]\n"
     ]
    },
    {
     "data": {
      "image/png": "[encoded data removed]",
      "text/plain": [
       "<Figure size 1440x288 with 1 Axes>"
      ]
     },
     "metadata": {
      "needs_background": "light"
     },
     "output_type": "display_data"
    }
   ],
   "source": [
    "stat['symptoms'] = {}\n",
    "\n",
    "def match(text):\n",
    "    if virus_match(text) == True:\n",
    "        return len(re.findall(rf'\\ ({\"|\".join(symptoms)})\\ ', text)) > 0\n",
    "    else:\n",
    "        return False\n",
    "\n",
    "def symptom(res):\n",
    "    ref, agregate, sentence, file = res\n",
    "    dict_counter(stat['symptoms'], ref.text)\n",
    "        \n",
    "rule = {    \n",
    "    \"Matchers\": [      \n",
    "       (\"Symptoms Reference\", matchers['Terms Matcher'](symptoms)),\n",
    "    ],\n",
    "    \"root\": {\n",
    "        \"Symptoms Reference\": symptom\n",
    "    }\n",
    "}\n",
    "\n",
    "\n",
    "def symptom_match(text):\n",
    "    return len(re.findall(r'symptom', text)) > 0\n",
    "\n",
    "execute_ruleset(symptom_match, rule)\n",
    "plot_dict(stat['symptoms'], 50, True, title = \"Manifested Symptoms\")"
   ]
  }
 ],
 "metadata": {
  "kernelspec": {
   "display_name": "Python 3",
   "language": "python",
   "name": "python3"
  },
  "language_info": {
   "codemirror_mode": {
    "name": "ipython",
    "version": 3
   },
   "file_extension": ".py",
   "mimetype": "text/x-python",
   "name": "python",
   "nbconvert_exporter": "python",
   "pygments_lexer": "ipython3",
   "version": "3.7.4"
  }
 },
 "nbformat": 4,
 "nbformat_minor": 2
}
